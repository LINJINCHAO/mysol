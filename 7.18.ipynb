{
 "cells": [
  {
   "cell_type": "markdown",
   "metadata": {},
   "source": [
    "# 选择\n",
    "## 布尔类型、数值和表达式\n",
    "![](../Photo/33.png)\n",
    "- 注意：比较运算符的相等是两个等号，一个等到代表赋值\n",
    "- 在Python中可以用整型0来代表False，其他数字来代表True\n",
    "- 后面还会讲到 is 在判断语句中的用发"
   ]
  },
  {
   "cell_type": "markdown",
   "metadata": {},
   "source": [
    "## 字符串的比较使用ASCII值"
   ]
  },
  {
   "cell_type": "markdown",
   "metadata": {},
   "source": [
    "## Markdown \n",
    "- https://github.com/younghz/Markdown"
   ]
  },
  {
   "cell_type": "markdown",
   "metadata": {},
   "source": [
    "## EP:\n",
    "- <img src=\"../Photo/34.png\"></img>\n",
    "- 输入一个数字，判断其实奇数还是偶数"
   ]
  },
  {
   "cell_type": "markdown",
   "metadata": {},
   "source": [
    "## 产生随机数字\n",
    "- 函数random.randint(a,b) 可以用来产生一个a和b之间且包括a和b的随机整数"
   ]
  },
  {
   "cell_type": "markdown",
   "metadata": {},
   "source": [
    "产生一个随机数，你去输入，如果你输入的数大于随机数，那么就告诉你太大了，反之，太小了，\n",
    "然后你一直输入，知道它满意为止"
   ]
  },
  {
   "cell_type": "markdown",
   "metadata": {},
   "source": [
    "##  其他random方法\n",
    "- random.random 返回0.0到1.0之间前闭后开区间的随机浮点\n",
    "- random.randrange(a,b) 前闭后开"
   ]
  },
  {
   "cell_type": "markdown",
   "metadata": {},
   "source": [
    "## EP：\n",
    "- 产生两个随机整数number1和number2，然后显示给用户，使用户输入数字的和，并判定其是否正确\n",
    "- 进阶:写一个随机序号点名程序"
   ]
  },
  {
   "cell_type": "markdown",
   "metadata": {},
   "source": [
    "## if语句\n",
    "- 如果条件正确就执行一个单向if语句，亦即当条件为真的时候才执行if内部的语句\n",
    "- Python有很多选择语句:\n",
    "> - 单向if \n",
    "  - 双向if-else\n",
    "  - 嵌套if\n",
    "  - 多向if-elif-else\n",
    "  \n",
    "- 注意：当语句含有子语句的时候，那么一定至少要有一个缩进，也就是说如果有儿子存在，那么一定要缩进\n",
    "- 切记不可tab键和space混用，单用tab 或者 space\n",
    "- 当你输出的结果是无论if是否为真时都需要显示时，语句应该与if对齐"
   ]
  },
  {
   "cell_type": "code",
   "execution_count": 4,
   "metadata": {
    "scrolled": false
   },
   "outputs": [
    {
     "name": "stdout",
     "output_type": "stream",
     "text": [
      ">>:26\n",
      "是否帅:[y/n]y\n",
      "是否有:[y/n]n\n",
      "年轻\n",
      "帅\n"
     ]
    },
    {
     "ename": "NameError",
     "evalue": "name 'y' is not defined",
     "output_type": "error",
     "traceback": [
      "\u001b[1;31m---------------------------------------------------------------------------\u001b[0m",
      "\u001b[1;31mNameError\u001b[0m                                 Traceback (most recent call last)",
      "\u001b[1;32m<ipython-input-4-fdb54c9189a0>\u001b[0m in \u001b[0;36m<module>\u001b[1;34m\u001b[0m\n\u001b[0;32m      6\u001b[0m    \u001b[1;32mif\u001b[0m \u001b[0myanzhi\u001b[0m \u001b[1;33m==\u001b[0m \u001b[1;34m'y'\u001b[0m\u001b[1;33m:\u001b[0m\u001b[1;33m\u001b[0m\u001b[1;33m\u001b[0m\u001b[0m\n\u001b[0;32m      7\u001b[0m        \u001b[0mprint\u001b[0m\u001b[1;33m(\u001b[0m\u001b[1;34m'帅'\u001b[0m\u001b[1;33m)\u001b[0m\u001b[1;33m\u001b[0m\u001b[1;33m\u001b[0m\u001b[0m\n\u001b[1;32m----> 8\u001b[1;33m        \u001b[1;32mif\u001b[0m \u001b[0mlaopo\u001b[0m \u001b[1;33m==\u001b[0m \u001b[1;33m[\u001b[0m\u001b[0my\u001b[0m\u001b[1;33m]\u001b[0m\u001b[1;33m:\u001b[0m\u001b[1;33m\u001b[0m\u001b[1;33m\u001b[0m\u001b[0m\n\u001b[0m\u001b[0;32m      9\u001b[0m            \u001b[0mprint\u001b[0m\u001b[1;33m(\u001b[0m\u001b[1;34m'有老婆，回家的诱惑'\u001b[0m\u001b[1;33m)\u001b[0m\u001b[1;33m\u001b[0m\u001b[1;33m\u001b[0m\u001b[0m\n\u001b[0;32m     10\u001b[0m        \u001b[1;32melse\u001b[0m\u001b[1;33m:\u001b[0m\u001b[1;33m\u001b[0m\u001b[1;33m\u001b[0m\u001b[0m\n",
      "\u001b[1;31mNameError\u001b[0m: name 'y' is not defined"
     ]
    }
   ],
   "source": [
    " nianling = eval(input('>>:'))\n",
    "yanzhi = input('是否帅:[y/n]')\n",
    "laopo = input('是否有:[y/n]')\n",
    "if nianling < 28:\n",
    "    print('年轻')\n",
    "    if yanzhi == 'y':\n",
    "        print('帅')\n",
    "        if laopo == [y]:\n",
    "            print('有老婆，回家的诱惑')\n",
    "        else:\n",
    "            print('没有老婆，马上结婚')\n",
    "    else:\n",
    "        print('不帅')\n",
    "else:\n",
    "    print('拜拜')\n",
    "   \n",
    "     \n",
    "            \n"
   ]
  },
  {
   "cell_type": "code",
   "execution_count": null,
   "metadata": {},
   "outputs": [],
   "source": [
    "age"
   ]
  },
  {
   "cell_type": "markdown",
   "metadata": {},
   "source": [
    "## EP：\n",
    "- 用户输入一个数字，判断其实奇数还是偶数\n",
    "- 进阶：可以查看下4.5实例研究猜生日"
   ]
  },
  {
   "cell_type": "markdown",
   "metadata": {},
   "source": [
    "## 双向if-else 语句\n",
    "- 如果条件为真，那么走if内部语句，否则走else内部语句"
   ]
  },
  {
   "cell_type": "markdown",
   "metadata": {},
   "source": [
    "## EP：\n",
    "- 产生两个随机整数number1和number2，然后显示给用户，使用户输入数字，并判定其是否正确,如果正确打印“you‘re correct”，否则打印正确错误"
   ]
  },
  {
   "cell_type": "markdown",
   "metadata": {},
   "source": [
    "## 嵌套if 和多向if-elif-else\n",
    "![](../Photo/35.png)"
   ]
  },
  {
   "cell_type": "code",
   "execution_count": null,
   "metadata": {},
   "outputs": [],
   "source": [
    "year = eval(input('请输入年份：'))\n",
    "if year % 12 == :\n",
    "    res\n",
    "elif year % 12 == :        \n",
    "elif year % 12 == :\n",
    "elif year % 12 == :    \n",
    "elif year % 12 == :    \n",
    "elif year % 12 == :    \n",
    "elif year % 12 == :    \n",
    "elif year % 12 == :    \n",
    "elif year % 12 == :    \n",
    "elif year % 12 == :    \n",
    "elif year % 12 == :    \n",
    "elif year % 12 == :    \n",
    "elif year % 12 == :    \n",
    "elif year % 12 == :    \n",
    "elif year % 12 == :    \n",
    "elif year % 12 == :    \n",
    "elif year % 12 == :    \n",
    "elif year % 12 == :    \n",
    "elif year % 12 == :    \n",
    "elif year % 12 == :    \n",
    "elif year % 12 == :    "
   ]
  },
  {
   "cell_type": "code",
   "execution_count": null,
   "metadata": {},
   "outputs": [],
   "source": [
    "if xxx:\n",
    "    \n",
    "if xxx:\n",
    "    \n",
    "if xxx:\n",
    "    \n",
    "if xxx:\n",
    "    \n",
    "if xxx:\n",
    "    \n",
    "if xxx:\n",
    "    "
   ]
  },
  {
   "cell_type": "markdown",
   "metadata": {},
   "source": [
    "## EP：\n",
    "- 提示用户输入一个年份，然后显示表示这一年的动物\n",
    "![](../Photo/36.png)\n",
    "- 计算身体质量指数的程序\n",
    "- BMI = 以千克为单位的体重除以以米为单位的身高的平方\n",
    "![](../Photo/37.png)"
   ]
  },
  {
   "cell_type": "code",
   "execution_count": 6,
   "metadata": {
    "scrolled": true
   },
   "outputs": [
    {
     "name": "stdout",
     "output_type": "stream",
     "text": [
      ">>57\n",
      ">>1.52\n",
      "标准\n"
     ]
    }
   ],
   "source": [
    "tz = eval(input('>>'))\n",
    "sg = eval(input('>>'))\n",
    "BMI = tz/sg**2\n",
    "if BMI<18.5 :\n",
    "    print('超轻')\n",
    "elif 18.5<=BMI<25.0:\n",
    "    print('标准')\n",
    "elif 25.0<=BMI<30.0:\n",
    "    print('超重')\n",
    "elif BMI<=30.0:\n",
    "    print('超肥')\n",
    " "
   ]
  },
  {
   "cell_type": "markdown",
   "metadata": {},
   "source": [
    "## 逻辑运算符\n",
    "![](../Photo/38.png)"
   ]
  },
  {
   "cell_type": "markdown",
   "metadata": {},
   "source": [
    "![](../Photo/39.png)\n",
    "![](../Photo/40.png)"
   ]
  },
  {
   "cell_type": "markdown",
   "metadata": {},
   "source": [
    "## EP：\n",
    "- 判定闰年：一个年份如果能被4整除但不能被100整除，或者能被400整除，那么这个年份就是闰年\n",
    "- 提示用户输入一个年份，并返回是否是闰年\n",
    "- 提示用户输入一个数字，判断其是否为水仙花数"
   ]
  },
  {
   "cell_type": "code",
   "execution_count": 3,
   "metadata": {},
   "outputs": [
    {
     "name": "stdout",
     "output_type": "stream",
     "text": [
      "请输入年份：2016\n",
      "平年\n"
     ]
    }
   ],
   "source": [
    "year = eval(input('请输入年份：'))\n",
    "if year % 400 ==0:\n",
    "    print('闰年')\n",
    "else:\n",
    "    print('平年')"
   ]
  },
  {
   "cell_type": "code",
   "execution_count": 3,
   "metadata": {},
   "outputs": [
    {
     "name": "stdout",
     "output_type": "stream",
     "text": [
      "请输入年份：2000\n",
      "平年\n"
     ]
    }
   ],
   "source": [
    "year = eval(input('请输入年份：'))\n",
    "if year % 4 ==0 and year % 100 != 0:\n",
    "    print('闰年')\n",
    "else:\n",
    "    print('平年')"
   ]
  },
  {
   "cell_type": "markdown",
   "metadata": {},
   "source": [
    "## 实例研究：彩票\n",
    "![](../Photo/41.png)"
   ]
  },
  {
   "cell_type": "markdown",
   "metadata": {},
   "source": [
    "# Homework\n",
    "- 1\n",
    "![](../Photo/42.png)"
   ]
  },
  {
   "cell_type": "code",
   "execution_count": 12,
   "metadata": {
    "scrolled": true
   },
   "outputs": [
    {
     "name": "stdout",
     "output_type": "stream",
     "text": [
      "enter a,b,c:1,2.0,1\n",
      "the root is -1.0\n"
     ]
    }
   ],
   "source": [
    "a,b,c= eval(input('enter a,b,c:'))\n",
    "pbs = b**2-4*a*c\n",
    "r1 = (-b + (pbs)**(1/2))/2*a\n",
    "r2 = (-b - (pbs)**(1/2))/2*a\n",
    "if pbs > 0:\n",
    "    print('the root are', r1,r2)\n",
    "if pbs == 0:\n",
    "    print('the root is',r1)\n",
    "if pbs < 0:\n",
    "    print('the equation has no real roots')"
   ]
  },
  {
   "cell_type": "markdown",
   "metadata": {},
   "source": [
    "- 2\n",
    "![](../Photo/43.png)"
   ]
  },
  {
   "cell_type": "code",
   "execution_count": 15,
   "metadata": {
    "scrolled": true
   },
   "outputs": [],
   "source": [
    "import random"
   ]
  },
  {
   "cell_type": "code",
   "execution_count": 16,
   "metadata": {},
   "outputs": [
    {
     "name": "stdout",
     "output_type": "stream",
     "text": [
      "请输入一个数:87\n",
      "假\n"
     ]
    }
   ],
   "source": [
    "sum = eval(input('请输入一个数:'))\n",
    "shu1 = random.randint(0,100)\n",
    "shu2 = random.randint(0,100)\n",
    "if sum == shu1 +shu2:\n",
    "    print('真')\n",
    "else:\n",
    "    print('假')"
   ]
  },
  {
   "cell_type": "markdown",
   "metadata": {},
   "source": [
    "- 3\n",
    "![](../Photo/44.png)"
   ]
  },
  {
   "cell_type": "code",
   "execution_count": 18,
   "metadata": {},
   "outputs": [
    {
     "name": "stdout",
     "output_type": "stream",
     "text": [
      "enter today's day:1\n",
      "enter the number of days elapsed since today:3\n",
      "today is  1 and the future day is Thursday\n"
     ]
    }
   ],
   "source": [
    "today = eval(input(\"enter today's day:\"))\n",
    "tianshu = eval(input(\"enter the number of days elapsed since today:\"))\n",
    "day = (today + tianshu)%7\n",
    "if day==0:\n",
    "    print(\"today is \",today,\"and the future day is Sunday\")\n",
    "elif day==1:\n",
    "    print(\"today is \",today,\"and the future day is Monday\")\n",
    "elif day==2:\n",
    "    print(\"today is \",today,\"and the future day is Tuesday\")\n",
    "elif day==3:\n",
    "    print(\"today is \",today,\"and the future day is Wednesday\")\n",
    "elif day==4:\n",
    "    print(\"today is \",today,\"and the future day is Thursday\")\n",
    "elif day==5:\n",
    "    print(\"today is \",today,\"and the future day is Friday\")\n",
    "elif day==6:\n",
    "    print(\"today is \",today,\"and the future day is Saturday\")\n"
   ]
  },
  {
   "cell_type": "markdown",
   "metadata": {},
   "source": [
    "- 4\n",
    "![](../Photo/45.png)"
   ]
  },
  {
   "cell_type": "code",
   "execution_count": 1,
   "metadata": {},
   "outputs": [
    {
     "name": "stdout",
     "output_type": "stream",
     "text": [
      "请输入三个整数a,b,c:3,1,8\n",
      "1 3 8\n"
     ]
    }
   ],
   "source": [
    "a,b,c = eval(input('请输入三个整数a,b,c:'))\n",
    "if a< b < c:\n",
    "    print(a,b,c)\n",
    "elif a< c < b:\n",
    "    print(a,c,b)\n",
    "elif c< b < a:\n",
    "    print(c,b,a)\n",
    "elif b< a < c:\n",
    "    print(b,a,c)\n",
    "elif c< a < b:\n",
    "    print(c,a,b)\n",
    "elif b< c < a:\n",
    "    print(b,c,a)"
   ]
  },
  {
   "cell_type": "markdown",
   "metadata": {},
   "source": [
    "- 5\n",
    "![](../Photo/46.png)"
   ]
  },
  {
   "cell_type": "code",
   "execution_count": 2,
   "metadata": {},
   "outputs": [
    {
     "name": "stdout",
     "output_type": "stream",
     "text": [
      "enter weight and price for package 1:50,24.59\n",
      "enter weight and price for package 2:25,11.99\n",
      "Package 2 has the better price\n"
     ]
    }
   ],
   "source": [
    "price1,package1 = eval(input('enter weight and price for package 1:'))\n",
    "price2,package2 = eval(input('enter weight and price for package 2:'))\n",
    "jiage1 = package1/price1\n",
    "jiage2 = package2/price2\n",
    "if jiage1> jiage2:\n",
    "    print('Package 2 has the better price')\n",
    "else:\n",
    "    print('Package 1 has the better price')"
   ]
  },
  {
   "cell_type": "markdown",
   "metadata": {},
   "source": [
    "- 6\n",
    "![](../Photo/47.png)"
   ]
  },
  {
   "cell_type": "code",
   "execution_count": null,
   "metadata": {
    "scrolled": true
   },
   "outputs": [],
   "source": [
    "month,year= eval(input('请输入月份和年份:'))\n",
    "if year % 4 ==0 and year % 100 != 0 and month ==2:\n",
    "    print('闰年',year,month,'29天')\n",
    "else:\n",
    "    print('平年')\n",
    "    \n",
    "if month in(1,3,5,7,8,10,12):\n",
    "    print(month,'31天')\n",
    "else:\n",
    "    print(month,'28天')\n",
    "    print(month,'29天')"
   ]
  },
  {
   "cell_type": "code",
   "execution_count": null,
   "metadata": {},
   "outputs": [],
   "source": [
    "mon,year = eval(input('输入月份,输入年份：'))\n",
    "if (year % 100 !=0 and year % 4==0 or year % 400==0):\n",
    "    print(year,'年是闰年')\n",
    "else:\n",
    "    print(year,'年是平年')\n",
    "if mon in (1,3,5,7,8,10,12):\n",
    "    print('这个月有31天')\n",
    "elif mon == 2:\n",
    "    print('29天')\n",
    "else:\n",
    "    print('28天')\n",
    "    print('30天')"
   ]
  },
  {
   "cell_type": "markdown",
   "metadata": {},
   "source": [
    "- 7\n",
    "![](../Photo/48.png)"
   ]
  },
  {
   "cell_type": "code",
   "execution_count": null,
   "metadata": {},
   "outputs": [],
   "source": [
    "a = 1\n",
    "b = 0\n",
    "c = eval(input('输入一个猜测值：'))\n",
    "if c == a:\n",
    "    print(\"正确\")\n",
    "if c == b:\n",
    "    print(\"错误\")"
   ]
  },
  {
   "cell_type": "markdown",
   "metadata": {},
   "source": [
    "- 8\n",
    "![](../Photo/49.png)"
   ]
  },
  {
   "cell_type": "code",
   "execution_count": null,
   "metadata": {},
   "outputs": [],
   "source": [
    "s = 0\n",
    "r = 1\n",
    "p = 2\n",
    "a = eval(input('scissor(0),rock(1),paper(2):'))\n",
    "if a == s:\n",
    "    print('The computer is paper.You are scissor.The computer won'or 'The computer is scissor.You are scissor too.It is a draw.'or 'The computer is rock.You are scissor.The computer won')\n",
    "elif a == r:\n",
    "    print('The computer is paper.You are rock.The computer won'or 'The computer is scissor.You are rock.You won.'or 'The computer is rock.You are rock too.It is a draw')\n",
    "elif a == p:\n",
    "    print('The computer is paper.You are paper too.It is a draw'or 'The computer is scissor.You are paper.The computer won.'or 'The computer is rock.You are paper.You won')"
   ]
  },
  {
   "cell_type": "markdown",
   "metadata": {},
   "source": [
    "- 9\n",
    "![](../Photo/50.png)"
   ]
  },
  {
   "cell_type": "markdown",
   "metadata": {},
   "source": [
    "- 10\n",
    "![](../Photo/51.png)"
   ]
  },
  {
   "cell_type": "code",
   "execution_count": null,
   "metadata": {},
   "outputs": [],
   "source": [
    "a = 'Ace'\n",
    "b = 2\n",
    "c = 3\n",
    "d = 4\n",
    "e = 5\n",
    "f = 6\n",
    "g = 7\n",
    "h = 8\n",
    "i = 9\n",
    "k = 10\n",
    "l = str('Jack')\n",
    "m = str('Queen')\n",
    "n = str('King')\n",
    "o = str('meihua')\n",
    "p = str('hongtao')\n",
    "q = str('fangkuai')\n",
    "r = str('heitao')\n",
    "s = str(input('请选出一张牌：'))\n",
    "if s==a or s==b or s==c or s==d or s==e or s==f or s==g or s==h or s==i:\n",
    "    print('The card you picked is the',a or b or c or d or e or f or g or h or i)"
   ]
  },
  {
   "cell_type": "markdown",
   "metadata": {},
   "source": [
    "- 11\n",
    "![](../Photo/52.png)"
   ]
  },
  {
   "cell_type": "code",
   "execution_count": null,
   "metadata": {},
   "outputs": [],
   "source": [
    "num = int(eval(input('输入一个数：')))\n",
    "num = str(num)\n",
    "if num [:]== num [::-1]:\n",
    "    print(num,'是回文数')\n",
    "else:\n",
    "    print(num,'不是回文数')"
   ]
  },
  {
   "cell_type": "markdown",
   "metadata": {},
   "source": [
    "- 12\n",
    "![](../Photo/53.png)"
   ]
  },
  {
   "cell_type": "code",
   "execution_count": null,
   "metadata": {},
   "outputs": [],
   "source": [
    "a,b,c = eval(input(\"输入三边的长度：\"))\n",
    "d = a+b+c\n",
    "if (a+b>c and a+c>b and b+c>a):\n",
    "    print('The perimeter is:',d)\n",
    "else:\n",
    "    print('这个输入是非法的')"
   ]
  }
 ],
 "metadata": {
  "kernelspec": {
   "display_name": "Python 3",
   "language": "python",
   "name": "python3"
  },
  "language_info": {
   "codemirror_mode": {
    "name": "ipython",
    "version": 3
   },
   "file_extension": ".py",
   "mimetype": "text/x-python",
   "name": "python",
   "nbconvert_exporter": "python",
   "pygments_lexer": "ipython3",
   "version": "3.7.3"
  }
 },
 "nbformat": 4,
 "nbformat_minor": 2
}
